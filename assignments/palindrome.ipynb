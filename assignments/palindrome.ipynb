{
 "cells": [
  {
   "cell_type": "markdown",
   "metadata": {},
   "source": [
    "##WRITE A FUNCTION TO CHECK WEATHER A NUMBER IS A PALINDROME\n"
   ]
  },
  {
   "cell_type": "markdown",
   "metadata": {},
   "source": [
    "--What is Palindrome?\n",
    "-A palindrome is a word, number, phrase, or sequence that reads the same forward and backward, ignoring spaces, punctuation, and capitalization (if applicable)."
   ]
  },
  {
   "cell_type": "code",
   "execution_count": 35,
   "metadata": {},
   "outputs": [
    {
     "name": "stdout",
     "output_type": "stream",
     "text": [
      "amanaplanacanalpanama\n",
      "amanaplanacanalpanama\n",
      "A man a Plan a canal Panama IS a PALINDROME\n"
     ]
    }
   ],
   "source": [
    "import string\n",
    "def palindrome(item):\n",
    "    striped_item=item.lower()\n",
    "    striped_item=striped_item.replace(' ','')\n",
    "    striped_item=striped_item.translate(str.maketrans('','',string.punctuation))\n",
    "    print(striped_item)\n",
    "    rev = striped_item[::-1]\n",
    "    print(rev)\n",
    "    if rev == striped_item:\n",
    "        print(f\"{item} IS a PALINDROME\")\n",
    "    else:\n",
    "        print(f\"{item} is NOT a PALINDROME\")\n",
    "palindrome(\"A man a Plan a canal Panama\")\n"
   ]
  }
 ],
 "metadata": {
  "kernelspec": {
   "display_name": "Python 3",
   "language": "python",
   "name": "python3"
  },
  "language_info": {
   "codemirror_mode": {
    "name": "ipython",
    "version": 3
   },
   "file_extension": ".py",
   "mimetype": "text/x-python",
   "name": "python",
   "nbconvert_exporter": "python",
   "pygments_lexer": "ipython3",
   "version": "3.12.7"
  }
 },
 "nbformat": 4,
 "nbformat_minor": 2
}
