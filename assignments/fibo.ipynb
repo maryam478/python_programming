{
 "cells": [
  {
   "cell_type": "markdown",
   "metadata": {},
   "source": [
    "##Write a function which take total values as input and create\n",
    "Fibonacci series of that length\n",
    "    u s e r : 5\n",
    "output : 0, 1, 1, 2, 3\n",
    "\n",
    "   \n",
    " --What is Fibonocci series?\n",
    " \n",
    " -The Fibonacci series is a sequence of numbers where:\n",
    "\n",
    "The first two numbers are 0 and 1\n",
    "\n",
    "Every number after that is the sum of the previous two\n",
    "e.g 0, 1, 1, 2, 3, 5, 8, 13, 21, ...\n"
   ]
  },
  {
   "cell_type": "code",
   "execution_count": 33,
   "metadata": {},
   "outputs": [
    {
     "name": "stdout",
     "output_type": "stream",
     "text": [
      "0\n",
      "1\n",
      "1\n",
      "2\n",
      "3\n",
      "5\n",
      "8\n",
      "13\n"
     ]
    }
   ],
   "source": [
    "def fib(num):\n",
    "   x = 0\n",
    "   y = 1\n",
    "   while x<num:\n",
    "      print(x)\n",
    "      if (y<num):\n",
    "          print(y)\n",
    "      x=x+y\n",
    "      y=x+y\n",
    "    #   print(y)\n",
    "fib(20)\n"
   ]
  }
 ],
 "metadata": {
  "kernelspec": {
   "display_name": "Python 3",
   "language": "python",
   "name": "python3"
  },
  "language_info": {
   "codemirror_mode": {
    "name": "ipython",
    "version": 3
   },
   "file_extension": ".py",
   "mimetype": "text/x-python",
   "name": "python",
   "nbconvert_exporter": "python",
   "pygments_lexer": "ipython3",
   "version": "3.12.7"
  }
 },
 "nbformat": 4,
 "nbformat_minor": 2
}
