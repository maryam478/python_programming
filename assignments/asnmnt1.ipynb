{
 "cells": [
  {
   "cell_type": "markdown",
   "metadata": {},
   "source": [
    "step1-data ingestion (name,phn,email,group)\n",
    "step2- search contacts via name\n",
    "step3-search contacts via group\n",
    "step4-ability to delte from database.txt\n"
   ]
  },
  {
   "cell_type": "markdown",
   "metadata": {},
   "source": [
    "##step1-data ingestion (name,phn,email,group)"
   ]
  },
  {
   "cell_type": "code",
   "execution_count": 1,
   "metadata": {},
   "outputs": [],
   "source": [
    "def create_database(name,phn,email,group):\n",
    "    with open('database.txt','a+') as f:\n",
    "        data = name +','+phn+','+email+','+group+','+'\\n'\n",
    "        f.write(data)\n",
    "create_database('Maryam','99999','jhjkfh@gmail.com','Home')\n",
    "create_database('sameeha','7878876','cat@gmail.com','company')\n",
    "create_database('huda','099989','jppppp@gmail.com','Home')\n",
    "create_database('omar','444444','dog@gmail.com','company')\n",
    "create_database('hamxza','123456','abc@gmail.com','Home')"
   ]
  },
  {
   "cell_type": "code",
   "execution_count": 2,
   "metadata": {},
   "outputs": [],
   "source": [
    "abc={}"
   ]
  },
  {
   "cell_type": "code",
   "execution_count": 5,
   "metadata": {},
   "outputs": [],
   "source": [
    "def populate_data(data):\n",
    "    # print(data)\n",
    "    data = data.split(',')\n",
    "    # print(data)\n",
    "    abc[str(data[1])] = {}\n",
    "    abc[str(data[1])][str(\"name\")] = data[0]\n",
    "    abc[str(data[1])][str(\"phone\")] = data[1]\n",
    "    abc[str(data[1])][str(\"email\")] = data[2]\n",
    "    abc[str(data[1])][str(\"category\")] = data[3]\n",
    "    print(f'this is abc {abc}')\n"
   ]
  },
  {
   "cell_type": "code",
   "execution_count": 6,
   "metadata": {},
   "outputs": [
    {
     "name": "stdout",
     "output_type": "stream",
     "text": [
      "this is abc {'99999': {'name': 'Maryam', 'phone': '99999', 'email': 'jhjkfh@gmail.com', 'category': 'Home'}, '7878876': {'name': 'sameeha', 'phone': '7878876', 'email': 'cat@gmail.com', 'category': 'company'}, '099989': {'name': 'huda', 'phone': '099989', 'email': 'jppppp@gmail.com', 'category': 'Home'}, '444444': {'name': 'omar', 'phone': '444444', 'email': 'dog@gmail.com', 'category': 'company'}, '123456': {'name': 'hamxza', 'phone': '123456', 'email': 'abc@gmail.com', 'category': 'Home'}}\n",
      "this is abc {'99999': {'name': 'Maryam', 'phone': '99999', 'email': 'jhjkfh@gmail.com', 'category': 'Home'}, '7878876': {'name': 'sameeha', 'phone': '7878876', 'email': 'cat@gmail.com', 'category': 'company'}, '099989': {'name': 'huda', 'phone': '099989', 'email': 'jppppp@gmail.com', 'category': 'Home'}, '444444': {'name': 'omar', 'phone': '444444', 'email': 'dog@gmail.com', 'category': 'company'}, '123456': {'name': 'hamxza', 'phone': '123456', 'email': 'abc@gmail.com', 'category': 'Home'}}\n",
      "this is abc {'99999': {'name': 'Maryam', 'phone': '99999', 'email': 'jhjkfh@gmail.com', 'category': 'Home'}, '7878876': {'name': 'sameeha', 'phone': '7878876', 'email': 'cat@gmail.com', 'category': 'company'}, '099989': {'name': 'huda', 'phone': '099989', 'email': 'jppppp@gmail.com', 'category': 'Home'}, '444444': {'name': 'omar', 'phone': '444444', 'email': 'dog@gmail.com', 'category': 'company'}, '123456': {'name': 'hamxza', 'phone': '123456', 'email': 'abc@gmail.com', 'category': 'Home'}}\n",
      "this is abc {'99999': {'name': 'Maryam', 'phone': '99999', 'email': 'jhjkfh@gmail.com', 'category': 'Home'}, '7878876': {'name': 'sameeha', 'phone': '7878876', 'email': 'cat@gmail.com', 'category': 'company'}, '099989': {'name': 'huda', 'phone': '099989', 'email': 'jppppp@gmail.com', 'category': 'Home'}, '444444': {'name': 'omar', 'phone': '444444', 'email': 'dog@gmail.com', 'category': 'company'}, '123456': {'name': 'hamxza', 'phone': '123456', 'email': 'abc@gmail.com', 'category': 'Home'}}\n",
      "this is abc {'99999': {'name': 'Maryam', 'phone': '99999', 'email': 'jhjkfh@gmail.com', 'category': 'Home'}, '7878876': {'name': 'sameeha', 'phone': '7878876', 'email': 'cat@gmail.com', 'category': 'company'}, '099989': {'name': 'huda', 'phone': '099989', 'email': 'jppppp@gmail.com', 'category': 'Home'}, '444444': {'name': 'omar', 'phone': '444444', 'email': 'dog@gmail.com', 'category': 'company'}, '123456': {'name': 'hamxza', 'phone': '123456', 'email': 'abc@gmail.com', 'category': 'Home'}}\n"
     ]
    }
   ],
   "source": [
    "with open('database.txt','r') as f:\n",
    "    content = f.readlines()\n",
    "    # print(content)\n",
    "    for i in content:\n",
    "        populate_data(i)"
   ]
  },
  {
   "cell_type": "code",
   "execution_count": 110,
   "metadata": {},
   "outputs": [
    {
     "name": "stdout",
     "output_type": "stream",
     "text": [
      "{'99999': {'name': 'Maryam', 'phone': '99999', 'email': 'jhjkfh@gmail.com', 'category': 'Home'}, '7878876': {'name': 'sameeha', 'phone': '7878876', 'email': 'cat@gmail.com', 'category': 'company'}, '099989': {'name': 'huda', 'phone': '099989', 'email': 'jppppp@gmail.com', 'category': 'Home'}, '444444': {'name': 'omar', 'phone': '444444', 'email': 'dog@gmail.com', 'category': 'company'}, '123456': {'name': 'hamxza', 'phone': '123456', 'email': 'abc@gmail.com', 'category': 'Home'}}\n"
     ]
    }
   ],
   "source": [
    "print(abc)"
   ]
  },
  {
   "cell_type": "markdown",
   "metadata": {},
   "source": [
    "##step2- search contacts via name\n"
   ]
  },
  {
   "cell_type": "code",
   "execution_count": 203,
   "metadata": {},
   "outputs": [
    {
     "name": "stdout",
     "output_type": "stream",
     "text": [
      "5\n",
      "{'name': 'Maryam', 'phone': '99999', 'email': 'jhjkfh@gmail.com', 'category': 'Home'} 0\n"
     ]
    }
   ],
   "source": [
    "search_name = input('enter the name to be searched')\n",
    "total = len(abc)\n",
    "print(total)\n",
    "\n",
    "\n",
    "for i, info in enumerate(abc.values()):\n",
    "    if search_name.lower() == info['name'].lower():\n",
    "       print(info,i)\n",
    "       break\n",
    "    if i==total-1:\n",
    "        print('name not present in database')\n",
    "        continue"
   ]
  },
  {
   "cell_type": "markdown",
   "metadata": {},
   "source": [
    "step3-search contacts via group"
   ]
  },
  {
   "cell_type": "code",
   "execution_count": 8,
   "metadata": {},
   "outputs": [
    {
     "name": "stdout",
     "output_type": "stream",
     "text": [
      "{'name': 'Maryam', 'phone': '99999', 'email': 'jhjkfh@gmail.com', 'category': 'Home'}\n",
      "{'name': 'huda', 'phone': '099989', 'email': 'jppppp@gmail.com', 'category': 'Home'}\n",
      "{'name': 'hamxza', 'phone': '123456', 'email': 'abc@gmail.com', 'category': 'Home'}\n"
     ]
    }
   ],
   "source": [
    "search_category = input('please provide the categpry of employees')\n",
    "for info in abc.values():\n",
    "    if search_category.lower() == info['category'].lower():\n",
    "        print(info)"
   ]
  },
  {
   "cell_type": "markdown",
   "metadata": {},
   "source": [
    "step4-ability to delte from database.txt"
   ]
  },
  {
   "cell_type": "code",
   "execution_count": 9,
   "metadata": {},
   "outputs": [
    {
     "name": "stdout",
     "output_type": "stream",
     "text": [
      "['Maryam,99999,jhjkfh@gmail.com,Home,\\n', 'sameeha,7878876,cat@gmail.com,company,\\n', 'huda,099989,jppppp@gmail.com,Home,\\n', 'omar,444444,dog@gmail.com,company,\\n', 'hamxza,123456,abc@gmail.com,Home,\\n']\n",
      "['sameeha,7878876,cat@gmail.com,company,\\n', 'huda,099989,jppppp@gmail.com,Home,\\n', 'omar,444444,dog@gmail.com,company,\\n', 'hamxza,123456,abc@gmail.com,Home,\\n']\n"
     ]
    }
   ],
   "source": [
    "remove_num = input('Enter the number you want to remove info about')\n",
    "\n",
    "with open('database.txt','r') as f:\n",
    "    lines = f.readlines()\n",
    "    print(lines)\n",
    "    new_lines = [line for line in lines if remove_num not in line]\n",
    "    print(new_lines)\n",
    "    with open(\"database.txt\", \"w\") as f:\n",
    "        f.writelines(new_lines)\n"
   ]
  },
  {
   "cell_type": "code",
   "execution_count": 298,
   "metadata": {},
   "outputs": [],
   "source": [
    "id = 1"
   ]
  },
  {
   "cell_type": "code",
   "execution_count": 3,
   "metadata": {},
   "outputs": [
    {
     "name": "stdout",
     "output_type": "stream",
     "text": [
      "['1-clean house--DONE\\n']\n",
      "['1-clean house--DONE\\n', '2-buy groceries--unfinished\\n']\n",
      "['1-clean house--DONE\\n', '2-buy groceries--unfinished\\n', '3-eat chaat--DONE\\n']\n",
      "['1-clean house--DONE\\n', '2-buy groceries--unfinished\\n', '3-eat chaat--DONE\\n', '\\n']\n"
     ]
    }
   ],
   "source": [
    "id = input('enter the id')\n",
    "\n",
    "with open('task.txt','r') as f:\n",
    "        lines = f.readlines()\n",
    "updated_lines = []\n",
    "for line in lines:\n",
    "        if line.startswith(f'{id}-'):\n",
    "                line=line.replace('unfinished','DONE')\n",
    "        updated_lines.append(line)\n",
    "        print(updated_lines)\n",
    "\n",
    "with open('task.txt','w') as f:\n",
    "        f.writelines(updated_lines)        \n",
    "\n",
    "        # new_lines = [line for line in lines if id  not in lines]\n",
    "        # print(new_lines)"
   ]
  },
  {
   "cell_type": "code",
   "execution_count": 10,
   "metadata": {},
   "outputs": [
    {
     "name": "stdout",
     "output_type": "stream",
     "text": [
      "['1-clean house--DONE\\n', '2-buy groceries--unfinished\\n', '3-eat chaat--unfinished\\n', '\\n']\n",
      "2-buy groceries--unfinished\n",
      "\n",
      "3-eat chaat--unfinished\n",
      "\n"
     ]
    }
   ],
   "source": [
    "with open('task.txt','r') as f:\n",
    "            lines = f.readlines()\n",
    "            print(lines)\n",
    "active_task=[]\n",
    "for line in lines:\n",
    "        if 'unfinished' in line:\n",
    "                active_task.append(line)\n",
    "for todo in active_task:\n",
    "        print(todo)"
   ]
  },
  {
   "cell_type": "code",
   "execution_count": 27,
   "metadata": {},
   "outputs": [
    {
     "name": "stdout",
     "output_type": "stream",
     "text": [
      "5\n",
      "5-have fun--unfinished\n"
     ]
    }
   ],
   "source": [
    "add_tasks = input('add task')\n",
    "with open('task.txt','a+') as f:\n",
    "        f.seek(0)\n",
    "        lines = f.readlines()\n",
    "        print(len(lines))\n",
    "        if(lines):\n",
    "              id = len(lines)\n",
    "        else:\n",
    "              id = 1\n",
    "              \n",
    "        progress = str(id)+'-'+str(add_tasks)+'--'+str('unfinished')\n",
    "        \n",
    "        print(progress)\n",
    "        f.write(progress+'\\n')"
   ]
  }
 ],
 "metadata": {
  "kernelspec": {
   "display_name": "Python 3",
   "language": "python",
   "name": "python3"
  },
  "language_info": {
   "codemirror_mode": {
    "name": "ipython",
    "version": 3
   },
   "file_extension": ".py",
   "mimetype": "text/x-python",
   "name": "python",
   "nbconvert_exporter": "python",
   "pygments_lexer": "ipython3",
   "version": "3.12.7"
  }
 },
 "nbformat": 4,
 "nbformat_minor": 2
}
