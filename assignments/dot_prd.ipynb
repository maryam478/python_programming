{
 "cells": [
  {
   "cell_type": "code",
   "execution_count": 3,
   "metadata": {},
   "outputs": [
    {
     "name": "stdout",
     "output_type": "stream",
     "text": [
      "180\n"
     ]
    }
   ],
   "source": [
    "list_1 = [2,4,6,8]\n",
    "list_2 = [3,6,9,12]\n",
    "sum = 0\n",
    "if (len(list_1)==len(list_2)):\n",
    "    length = len(list_1)\n",
    "    for i in range(0,length,1):\n",
    "        temp = list_1[i]*list_2[i]\n",
    "        sum = sum + temp\n",
    "\n",
    "print(sum)\n",
    "        \n"
   ]
  }
 ],
 "metadata": {
  "kernelspec": {
   "display_name": "Python 3",
   "language": "python",
   "name": "python3"
  },
  "language_info": {
   "codemirror_mode": {
    "name": "ipython",
    "version": 3
   },
   "file_extension": ".py",
   "mimetype": "text/x-python",
   "name": "python",
   "nbconvert_exporter": "python",
   "pygments_lexer": "ipython3",
   "version": "3.12.7"
  }
 },
 "nbformat": 4,
 "nbformat_minor": 2
}
